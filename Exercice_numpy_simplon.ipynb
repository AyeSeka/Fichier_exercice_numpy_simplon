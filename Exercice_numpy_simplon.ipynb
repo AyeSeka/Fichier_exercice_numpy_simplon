{
  "nbformat": 4,
  "nbformat_minor": 0,
  "metadata": {
    "colab": {
      "provenance": [],
      "toc_visible": true
    },
    "kernelspec": {
      "name": "python3",
      "display_name": "Python 3"
    },
    "language_info": {
      "name": "python"
    }
  },
  "cells": [
    {
      "cell_type": "code",
      "execution_count": null,
      "metadata": {
        "id": "RZo5ROLtNtIk"
      },
      "outputs": [],
      "source": [
        "#importer les librairies\n",
        "import numpy as np"
      ]
    },
    {
      "cell_type": "markdown",
      "source": [
        "**Exercice 1**"
      ],
      "metadata": {
        "id": "Cu6P8bLdLdTv"
      }
    },
    {
      "cell_type": "code",
      "source": [
        "#Constructeur un tableau numpy qui contient les éléments suivants : 1,5,7,8\n",
        "np.array([1,5,7,8])"
      ],
      "metadata": {
        "colab": {
          "base_uri": "https://localhost:8080/"
        },
        "id": "DTMKsoXaOXgG",
        "outputId": "f4ef4d72-28c6-4068-ab43-f8d71ab33bf1"
      },
      "execution_count": null,
      "outputs": [
        {
          "output_type": "execute_result",
          "data": {
            "text/plain": [
              "array([1, 5, 7, 8])"
            ]
          },
          "metadata": {},
          "execution_count": 5
        }
      ]
    },
    {
      "cell_type": "code",
      "source": [
        "#Constructeur un tableau numpy qui contient les éléments suivants :\n",
        "1,2,3,4,5,6,7,8,9\n",
        "np.array([0, 1, 2, 3, 4, 5, 6, 7, 8, 9])"
      ],
      "metadata": {
        "colab": {
          "base_uri": "https://localhost:8080/"
        },
        "id": "Y3vYdbRrQ5jE",
        "outputId": "1a15dede-7543-495c-99f8-033840f98ef8"
      },
      "execution_count": null,
      "outputs": [
        {
          "output_type": "execute_result",
          "data": {
            "text/plain": [
              "array([0, 1, 2, 3, 4, 5, 6, 7, 8, 9])"
            ]
          },
          "metadata": {},
          "execution_count": 38
        }
      ]
    },
    {
      "cell_type": "code",
      "source": [
        "#Créer un tableau de 10 éléments rempli de 0\n",
        "np.zeros(10)"
      ],
      "metadata": {
        "colab": {
          "base_uri": "https://localhost:8080/"
        },
        "id": "KEvKbtdBS1D_",
        "outputId": "6f75a336-71c0-4854-9923-e173de69e48d"
      },
      "execution_count": null,
      "outputs": [
        {
          "output_type": "execute_result",
          "data": {
            "text/plain": [
              "array([0., 0., 0., 0., 0., 0., 0., 0., 0., 0.])"
            ]
          },
          "metadata": {},
          "execution_count": 18
        }
      ]
    },
    {
      "cell_type": "code",
      "source": [
        "#Créer un tableau de 2 lignes 5 colonnes rempli de 0\n",
        "np.zeros((2,5))"
      ],
      "metadata": {
        "colab": {
          "base_uri": "https://localhost:8080/"
        },
        "id": "zH6GnOvmTlyC",
        "outputId": "a0f05d4d-7834-4b92-fea7-20e1702a60cb"
      },
      "execution_count": null,
      "outputs": [
        {
          "output_type": "execute_result",
          "data": {
            "text/plain": [
              "array([[0., 0., 0., 0., 0.],\n",
              "       [0., 0., 0., 0., 0.]])"
            ]
          },
          "metadata": {},
          "execution_count": 53
        }
      ]
    },
    {
      "cell_type": "code",
      "source": [
        "# Créer un tableau de 10 éléments rempli de 1\n",
        "np.ones(10)"
      ],
      "metadata": {
        "colab": {
          "base_uri": "https://localhost:8080/"
        },
        "id": "nve6Rri7V1a8",
        "outputId": "e3fbf16f-a9a3-4a66-b3cf-a86e3db4bd03"
      },
      "execution_count": null,
      "outputs": [
        {
          "output_type": "execute_result",
          "data": {
            "text/plain": [
              "array([1., 1., 1., 1., 1., 1., 1., 1., 1., 1.])"
            ]
          },
          "metadata": {},
          "execution_count": 28
        }
      ]
    },
    {
      "cell_type": "code",
      "source": [
        "#Créer un tableau de 2 lignes 5 colonnes rempli de 1\n",
        "np.ones((2,5))"
      ],
      "metadata": {
        "colab": {
          "base_uri": "https://localhost:8080/"
        },
        "id": "Lk9Y0sX4VW30",
        "outputId": "a79bc7b5-c366-4a9b-981d-cab42cb7ae88"
      },
      "execution_count": null,
      "outputs": [
        {
          "output_type": "execute_result",
          "data": {
            "text/plain": [
              "array([[1., 1., 1., 1., 1.],\n",
              "       [1., 1., 1., 1., 1.]])"
            ]
          },
          "metadata": {},
          "execution_count": 54
        }
      ]
    },
    {
      "cell_type": "code",
      "source": [
        "#Créer un tableau de 10 éléments rempli 8.5\n",
        "np.full(10,8.5)"
      ],
      "metadata": {
        "id": "0XYjfJeSXhaJ",
        "colab": {
          "base_uri": "https://localhost:8080/"
        },
        "outputId": "1094ef31-d72f-442e-d465-948d4f40dac8"
      },
      "execution_count": null,
      "outputs": [
        {
          "output_type": "execute_result",
          "data": {
            "text/plain": [
              "array([8.5, 8.5, 8.5, 8.5, 8.5, 8.5, 8.5, 8.5, 8.5, 8.5])"
            ]
          },
          "metadata": {},
          "execution_count": 36
        }
      ]
    },
    {
      "cell_type": "code",
      "source": [
        "#Créer un tableau de série d'entiers successifs allant de 1 à 9 inclus\n",
        "np.arange(11)"
      ],
      "metadata": {
        "colab": {
          "base_uri": "https://localhost:8080/"
        },
        "id": "okrLedwPNO4k",
        "outputId": "a4fe4836-3e0a-45ef-9fa7-e61a8a6e5d7c"
      },
      "execution_count": null,
      "outputs": [
        {
          "output_type": "execute_result",
          "data": {
            "text/plain": [
              "array([ 0,  1,  2,  3,  4,  5,  6,  7,  8,  9, 10])"
            ]
          },
          "metadata": {},
          "execution_count": 128
        }
      ]
    },
    {
      "cell_type": "code",
      "source": [
        "#Créer un tableau de 3 lignes et 3 colonnes rempli de série d'entiers successifs\n",
        "table =np.arange(1,10)\n",
        "table.reshape(3,3)"
      ],
      "metadata": {
        "colab": {
          "base_uri": "https://localhost:8080/"
        },
        "id": "2sIHcqHTPdkw",
        "outputId": "98ca695a-14e7-4073-b4bf-ee8c5ae7e4a7"
      },
      "execution_count": null,
      "outputs": [
        {
          "output_type": "execute_result",
          "data": {
            "text/plain": [
              "array([[1, 2, 3],\n",
              "       [4, 5, 6],\n",
              "       [7, 8, 9]])"
            ]
          },
          "metadata": {},
          "execution_count": 47
        }
      ]
    },
    {
      "cell_type": "code",
      "source": [
        "#Créer une matrice identité de 4 lignes 4 colonnes\n",
        "np.identity(4)"
      ],
      "metadata": {
        "colab": {
          "base_uri": "https://localhost:8080/"
        },
        "id": "iQU71RGpR8T5",
        "outputId": "6d69ab46-ca91-461e-ab09-f08e4bcc2fb9"
      },
      "execution_count": null,
      "outputs": [
        {
          "output_type": "execute_result",
          "data": {
            "text/plain": [
              "array([[1., 0., 0., 0.],\n",
              "       [0., 1., 0., 0.],\n",
              "       [0., 0., 1., 0.],\n",
              "       [0., 0., 0., 1.]])"
            ]
          },
          "metadata": {},
          "execution_count": 55
        }
      ]
    },
    {
      "cell_type": "code",
      "source": [
        "#Tableau rempli de valeurs aléatoires normales centrées en zéro\n",
        "np.random.rand(10)"
      ],
      "metadata": {
        "colab": {
          "base_uri": "https://localhost:8080/"
        },
        "id": "7uER8NLkStMN",
        "outputId": "0c6103d4-e8b9-427a-831f-4ccfa5e7924c"
      },
      "execution_count": null,
      "outputs": [
        {
          "output_type": "execute_result",
          "data": {
            "text/plain": [
              "array([0.65210327, 0.43141844, 0.8965466 , 0.36756187, 0.43586493,\n",
              "       0.89192336, 0.80619399, 0.70388858, 0.10022689, 0.91948261])"
            ]
          },
          "metadata": {},
          "execution_count": 86
        }
      ]
    },
    {
      "cell_type": "code",
      "source": [
        "#Créer un tableau rempli de 20 valeurs aléatoires entières comprises entre 1 et 10\n",
        "table_transform = np.random.randint(1,11,20)\n",
        "table_transform"
      ],
      "metadata": {
        "colab": {
          "base_uri": "https://localhost:8080/"
        },
        "id": "92uP9PGdSxjq",
        "outputId": "395ad5a3-a128-4831-a240-a01694164568"
      },
      "execution_count": null,
      "outputs": [
        {
          "output_type": "execute_result",
          "data": {
            "text/plain": [
              "array([ 5,  3,  4,  6,  6,  3,  6,  8,  7,  1,  1,  8,  9,  8,  4,  4, 10,\n",
              "        3,  7,  1])"
            ]
          },
          "metadata": {},
          "execution_count": 160
        }
      ]
    },
    {
      "cell_type": "code",
      "source": [
        "#Transformer le tableau précédent en matrice de 4 lignes et 5 colonnes\n",
        "table_transform.reshape(4,5)"
      ],
      "metadata": {
        "colab": {
          "base_uri": "https://localhost:8080/"
        },
        "id": "o2wTa0LzSx6y",
        "outputId": "3f59d1c1-f963-4b33-90c5-b8e8d3fcc06d"
      },
      "execution_count": null,
      "outputs": [
        {
          "output_type": "execute_result",
          "data": {
            "text/plain": [
              "array([[ 5,  3,  4,  6,  6],\n",
              "       [ 3,  6,  8,  7,  1],\n",
              "       [ 1,  8,  9,  8,  4],\n",
              "       [ 4, 10,  3,  7,  1]])"
            ]
          },
          "metadata": {},
          "execution_count": 161
        }
      ]
    },
    {
      "cell_type": "code",
      "source": [
        "#Créer un tableau de 5 éléments compris entre 0 et 1 avec une amplitude égale\n",
        "np.linspace(0,1,5)"
      ],
      "metadata": {
        "colab": {
          "base_uri": "https://localhost:8080/"
        },
        "id": "selYc19hXBQD",
        "outputId": "bd2be52a-86c7-4e87-dab3-9ec8a226b431"
      },
      "execution_count": null,
      "outputs": [
        {
          "output_type": "execute_result",
          "data": {
            "text/plain": [
              "array([0.  , 0.25, 0.5 , 0.75, 1.  ])"
            ]
          },
          "metadata": {},
          "execution_count": 129
        }
      ]
    },
    {
      "cell_type": "code",
      "source": [],
      "metadata": {
        "id": "-SzOdBv_c6mG"
      },
      "execution_count": null,
      "outputs": []
    },
    {
      "cell_type": "markdown",
      "source": [
        "**EXERCICE 2**"
      ],
      "metadata": {
        "id": "SoHLY4StfoBR"
      }
    },
    {
      "cell_type": "markdown",
      "source": [
        "Soit le tableau a = np.array([[1,2,3],[4,5,6],[7,8,9]]).\n"
      ],
      "metadata": {
        "id": "rLv8vb3XoA-Y"
      }
    },
    {
      "cell_type": "code",
      "source": [
        "a = np.array([[1,2,3],[4,5,6],[7,8,9]])\n",
        "a"
      ],
      "metadata": {
        "colab": {
          "base_uri": "https://localhost:8080/"
        },
        "id": "xTrazy8upKMq",
        "outputId": "28785d73-3aa2-4a1f-e941-f74825090ada"
      },
      "execution_count": null,
      "outputs": [
        {
          "output_type": "execute_result",
          "data": {
            "text/plain": [
              "array([[1, 2, 3],\n",
              "       [4, 5, 6],\n",
              "       [7, 8, 9]])"
            ]
          },
          "metadata": {},
          "execution_count": 137
        }
      ]
    },
    {
      "cell_type": "code",
      "source": [
        "#Afficher le nombre de lignes et de colonnes\n",
        "a.shape"
      ],
      "metadata": {
        "colab": {
          "base_uri": "https://localhost:8080/"
        },
        "id": "EeWGQhdTf-2E",
        "outputId": "0ab65e0c-faac-41fe-ded2-e2c30116b21c"
      },
      "execution_count": null,
      "outputs": [
        {
          "output_type": "execute_result",
          "data": {
            "text/plain": [
              "(3, 3)"
            ]
          },
          "metadata": {},
          "execution_count": 138
        }
      ]
    },
    {
      "cell_type": "code",
      "source": [
        " #Afficher la dimension de mon tableau\n",
        " a.ndim"
      ],
      "metadata": {
        "colab": {
          "base_uri": "https://localhost:8080/"
        },
        "id": "jd_kAaR-ot_I",
        "outputId": "ab33a57b-c3cf-42d2-a346-8f677030f2dd"
      },
      "execution_count": null,
      "outputs": [
        {
          "output_type": "execute_result",
          "data": {
            "text/plain": [
              "2"
            ]
          },
          "metadata": {},
          "execution_count": 136
        }
      ]
    },
    {
      "cell_type": "code",
      "source": [
        "#Afficher le nombre d'élément de mon tableau\n",
        "a.size"
      ],
      "metadata": {
        "colab": {
          "base_uri": "https://localhost:8080/"
        },
        "id": "Ap0vBu--phyJ",
        "outputId": "b00f4e53-f24b-471d-eae1-509100571b81"
      },
      "execution_count": null,
      "outputs": [
        {
          "output_type": "execute_result",
          "data": {
            "text/plain": [
              "9"
            ]
          },
          "metadata": {},
          "execution_count": 142
        }
      ]
    },
    {
      "cell_type": "code",
      "source": [
        "#Afficher le type des éléments du tableau\n",
        "a.dtype"
      ],
      "metadata": {
        "colab": {
          "base_uri": "https://localhost:8080/"
        },
        "id": "UjtKDth6qwXb",
        "outputId": "00eb07f2-3287-45fc-d6c3-eeaf269a863f"
      },
      "execution_count": null,
      "outputs": [
        {
          "output_type": "execute_result",
          "data": {
            "text/plain": [
              "dtype('int64')"
            ]
          },
          "metadata": {},
          "execution_count": 147
        }
      ]
    },
    {
      "cell_type": "markdown",
      "source": [
        "**EXERCICE 3**"
      ],
      "metadata": {
        "id": "ntfgQmOkrRBT"
      }
    },
    {
      "cell_type": "markdown",
      "source": [
        "Soit le tableau a = np.array([[1,2,3],[4,5,6],[7,8,9]])"
      ],
      "metadata": {
        "id": "QlE9McLGrt_M"
      }
    },
    {
      "cell_type": "code",
      "source": [
        "a = np.array([[1,2,3],[4,5,6],[7,8,9]])\n",
        "a"
      ],
      "metadata": {
        "colab": {
          "base_uri": "https://localhost:8080/"
        },
        "id": "4Ru_kOtfrwjO",
        "outputId": "1be8281b-e1bc-4679-8dec-f9e8222dbdb1"
      },
      "execution_count": null,
      "outputs": [
        {
          "output_type": "execute_result",
          "data": {
            "text/plain": [
              "array([[1, 2, 3],\n",
              "       [4, 5, 6],\n",
              "       [7, 8, 9]])"
            ]
          },
          "metadata": {},
          "execution_count": 148
        }
      ]
    },
    {
      "cell_type": "code",
      "source": [
        "#afficher la valeur 5 qui est dans le tableau\n",
        "a[1][1]"
      ],
      "metadata": {
        "colab": {
          "base_uri": "https://localhost:8080/"
        },
        "id": "bwsmyjxYrm2G",
        "outputId": "08fbda4b-b23a-4e05-a0b0-64a05e1db0f9"
      },
      "execution_count": null,
      "outputs": [
        {
          "output_type": "execute_result",
          "data": {
            "text/plain": [
              "5"
            ]
          },
          "metadata": {},
          "execution_count": 149
        }
      ]
    },
    {
      "cell_type": "code",
      "source": [
        "#Remplacer le 5 qui est dans le tableau par 0\n",
        "a[1][1]=0\n",
        "a"
      ],
      "metadata": {
        "colab": {
          "base_uri": "https://localhost:8080/"
        },
        "id": "iyXpGlN4sIT4",
        "outputId": "930f8921-17b7-4d84-9c36-8c0f1af0bbb2"
      },
      "execution_count": null,
      "outputs": [
        {
          "output_type": "execute_result",
          "data": {
            "text/plain": [
              "array([[1, 2, 3],\n",
              "       [4, 0, 6],\n",
              "       [7, 8, 9]])"
            ]
          },
          "metadata": {},
          "execution_count": 150
        }
      ]
    },
    {
      "cell_type": "code",
      "source": [
        "#afficher les chiffres 3, 6 et 9 du tableau\n",
        "a[0:,2]"
      ],
      "metadata": {
        "colab": {
          "base_uri": "https://localhost:8080/"
        },
        "id": "Lxp0PRwbsUyL",
        "outputId": "7788feae-0f78-4fa7-aa8a-7ec20a81912c"
      },
      "execution_count": null,
      "outputs": [
        {
          "output_type": "execute_result",
          "data": {
            "text/plain": [
              "array([3, 6, 9])"
            ]
          },
          "metadata": {},
          "execution_count": 152
        }
      ]
    },
    {
      "cell_type": "code",
      "source": [
        "#créer un tableau de 4 lignes et 3 colonnes rempli de 12 nombres entiers aléatoires compris entre 0 et 9\n",
        "tn =np.random.randint(0,10,12)\n",
        "tn.reshape(4,3)"
      ],
      "metadata": {
        "colab": {
          "base_uri": "https://localhost:8080/"
        },
        "id": "Aj3Un66huoVr",
        "outputId": "ceabf256-bfd2-45d5-d17a-d3e12ce8dbbf"
      },
      "execution_count": null,
      "outputs": [
        {
          "output_type": "execute_result",
          "data": {
            "text/plain": [
              "array([[2, 6, 8],\n",
              "       [1, 9, 1],\n",
              "       [7, 9, 7],\n",
              "       [6, 5, 9]])"
            ]
          },
          "metadata": {},
          "execution_count": 158
        }
      ]
    },
    {
      "cell_type": "code",
      "source": [
        "#Vérifier qu’il y a des nombres inférieur à 5\n",
        "np.any(tn<5)"
      ],
      "metadata": {
        "colab": {
          "base_uri": "https://localhost:8080/"
        },
        "id": "jaXFJcpTwiu2",
        "outputId": "da7a9b86-2bb9-4e98-cdc0-7fed28eea6ca"
      },
      "execution_count": null,
      "outputs": [
        {
          "output_type": "execute_result",
          "data": {
            "text/plain": [
              "True"
            ]
          },
          "metadata": {},
          "execution_count": 163
        }
      ]
    },
    {
      "cell_type": "code",
      "source": [
        "#Remplacer les nombres inférieurs à 5 par 0\n",
        "np.where(tn<5,0, tn)"
      ],
      "metadata": {
        "colab": {
          "base_uri": "https://localhost:8080/"
        },
        "id": "AGCGTEWbxYDl",
        "outputId": "9916c02a-e60d-4bd1-f6e4-8174c501e09f"
      },
      "execution_count": null,
      "outputs": [
        {
          "output_type": "execute_result",
          "data": {
            "text/plain": [
              "array([0, 6, 8, 0, 9, 0, 7, 9, 7, 6, 5, 9])"
            ]
          },
          "metadata": {},
          "execution_count": 169
        }
      ]
    },
    {
      "cell_type": "markdown",
      "source": [
        "**EXERCICE 4**"
      ],
      "metadata": {
        "id": "6j-IjD93zy0k"
      }
    },
    {
      "cell_type": "code",
      "source": [
        "#Créer un tableau de 4 lignes et 3 colonnes rempli de 11 nombres entiers aléatoires compris entre 0 et 9\n",
        "table_exo4=np.random.randint(0,10,(4,3))\n",
        "table_exo4"
      ],
      "metadata": {
        "colab": {
          "base_uri": "https://localhost:8080/"
        },
        "id": "XXOpVfHczq39",
        "outputId": "fe3ff5fc-7ba2-4c5b-fcf0-1fd4b31ea888"
      },
      "execution_count": null,
      "outputs": [
        {
          "output_type": "execute_result",
          "data": {
            "text/plain": [
              "array([[3, 3, 8],\n",
              "       [1, 7, 3],\n",
              "       [6, 8, 9],\n",
              "       [7, 5, 3]])"
            ]
          },
          "metadata": {},
          "execution_count": 254
        }
      ]
    },
    {
      "cell_type": "code",
      "source": [
        "#Quel est le type des éléments du tableau ?\n",
        "table_exo4.dtype"
      ],
      "metadata": {
        "colab": {
          "base_uri": "https://localhost:8080/"
        },
        "id": "Td1X0iPrz171",
        "outputId": "2d2abe03-386f-4d4c-8d9d-48abe3181b63"
      },
      "execution_count": null,
      "outputs": [
        {
          "output_type": "execute_result",
          "data": {
            "text/plain": [
              "dtype('int64')"
            ]
          },
          "metadata": {},
          "execution_count": 222
        }
      ]
    },
    {
      "cell_type": "code",
      "source": [
        "# Changer de type des éléments du tableau en float32\n",
        "table_exo4=np.float32(table_exo4)\n",
        "table_exo4"
      ],
      "metadata": {
        "colab": {
          "base_uri": "https://localhost:8080/"
        },
        "id": "iJ3SBw0H1ZSW",
        "outputId": "97b1f7a4-a164-4a90-d996-6cfdc1a94573"
      },
      "execution_count": null,
      "outputs": [
        {
          "output_type": "execute_result",
          "data": {
            "text/plain": [
              "array([[3., 3., 8.],\n",
              "       [1., 7., 3.],\n",
              "       [6., 8., 9.],\n",
              "       [7., 5., 3.]], dtype=float32)"
            ]
          },
          "metadata": {},
          "execution_count": 255
        }
      ]
    },
    {
      "cell_type": "code",
      "source": [
        "#Ajouter le chiffre 3 à la fin du tableau à une dimension\n",
        "table_exo4= np.append(table_exo4,3)\n",
        "table_exo4"
      ],
      "metadata": {
        "colab": {
          "base_uri": "https://localhost:8080/"
        },
        "id": "wXeFkcny1x6R",
        "outputId": "fc703a22-8728-4a96-cf18-855e16d98135"
      },
      "execution_count": null,
      "outputs": [
        {
          "output_type": "execute_result",
          "data": {
            "text/plain": [
              "array([3., 3., 8., 1., 7., 3., 6., 8., 9., 7., 5., 3., 3.])"
            ]
          },
          "metadata": {},
          "execution_count": 256
        }
      ]
    },
    {
      "cell_type": "code",
      "source": [
        "#Transformer le tableau en matrice dénommée “a” de 3 lignes et 4 colonnes\n",
        "a = table_exo4\n",
        "a= np.delete(a,-1)\n",
        "a=a.reshape(3,4)\n",
        "a"
      ],
      "metadata": {
        "colab": {
          "base_uri": "https://localhost:8080/"
        },
        "id": "JWP1npGZ28T0",
        "outputId": "84de90cf-debe-45ab-8531-25cfac0b011d"
      },
      "execution_count": null,
      "outputs": [
        {
          "output_type": "execute_result",
          "data": {
            "text/plain": [
              "array([[3., 3., 8., 1.],\n",
              "       [7., 3., 6., 8.],\n",
              "       [9., 7., 5., 3.]])"
            ]
          },
          "metadata": {},
          "execution_count": 257
        }
      ]
    },
    {
      "cell_type": "code",
      "source": [
        "#Créer une matrice dénommée “b” de 3 lignes et 4 colonnes remplie de série d'entiers successifs allant de 1 à 12 inclus\n",
        "b= np.arange(1,13)\n",
        "b= b.reshape(3,4)\n",
        "b"
      ],
      "metadata": {
        "colab": {
          "base_uri": "https://localhost:8080/"
        },
        "id": "N9FoYbc26lwe",
        "outputId": "8e7f848f-c774-438a-8270-ae1c8bd688bc"
      },
      "execution_count": null,
      "outputs": [
        {
          "output_type": "execute_result",
          "data": {
            "text/plain": [
              "array([[ 1,  2,  3,  4],\n",
              "       [ 5,  6,  7,  8],\n",
              "       [ 9, 10, 11, 12]])"
            ]
          },
          "metadata": {},
          "execution_count": 258
        }
      ]
    },
    {
      "cell_type": "code",
      "source": [
        "# Créer une matrice dénommée “c” qui est la concaténation des deux tableaux “a” et “b” dans le sens horizontale\n",
        "c=np.hstack((a,b))\n",
        "c"
      ],
      "metadata": {
        "colab": {
          "base_uri": "https://localhost:8080/"
        },
        "id": "cqc1JlGfICoj",
        "outputId": "6c28c304-9421-44e5-9519-c8efcd6e7130"
      },
      "execution_count": null,
      "outputs": [
        {
          "output_type": "execute_result",
          "data": {
            "text/plain": [
              "array([[ 3.,  3.,  8.,  1.,  1.,  2.,  3.,  4.],\n",
              "       [ 7.,  3.,  6.,  8.,  5.,  6.,  7.,  8.],\n",
              "       [ 9.,  7.,  5.,  3.,  9., 10., 11., 12.]])"
            ]
          },
          "metadata": {},
          "execution_count": 259
        }
      ]
    },
    {
      "cell_type": "code",
      "source": [
        "#Créer une matrice dénommée “d” qui est la concaténation des deux tableaux “a” et “b” dans le sens verticale\n",
        "d= np.vstack((a,b))\n",
        "d"
      ],
      "metadata": {
        "colab": {
          "base_uri": "https://localhost:8080/"
        },
        "id": "UK1XJ9upKrdi",
        "outputId": "14dfd0fd-fc3c-4cf8-f7a0-bca1d09ebe87"
      },
      "execution_count": null,
      "outputs": [
        {
          "output_type": "execute_result",
          "data": {
            "text/plain": [
              "array([[ 3.,  3.,  8.,  1.],\n",
              "       [ 7.,  3.,  6.,  8.],\n",
              "       [ 9.,  7.,  5.,  3.],\n",
              "       [ 1.,  2.,  3.,  4.],\n",
              "       [ 5.,  6.,  7.,  8.],\n",
              "       [ 9., 10., 11., 12.]])"
            ]
          },
          "metadata": {},
          "execution_count": 261
        }
      ]
    },
    {
      "cell_type": "code",
      "source": [
        "#Aplatir un tableau “d”\n",
        "d = np.ravel(d)\n",
        "d"
      ],
      "metadata": {
        "colab": {
          "base_uri": "https://localhost:8080/"
        },
        "id": "n_YFTTnbLKsv",
        "outputId": "56c6c170-1526-4b91-ce7e-6d989621d511"
      },
      "execution_count": null,
      "outputs": [
        {
          "output_type": "execute_result",
          "data": {
            "text/plain": [
              "array([ 3.,  3.,  8.,  1.,  7.,  3.,  6.,  8.,  9.,  7.,  5.,  3.,  1.,\n",
              "        2.,  3.,  4.,  5.,  6.,  7.,  8.,  9., 10., 11., 12.])"
            ]
          },
          "metadata": {},
          "execution_count": 262
        }
      ]
    },
    {
      "cell_type": "code",
      "source": [
        "#Supprimer dernier élément du tableau\n",
        "d= np.delete(d,-1)\n",
        "d"
      ],
      "metadata": {
        "colab": {
          "base_uri": "https://localhost:8080/"
        },
        "id": "6CJaEWcqMFTY",
        "outputId": "8b8ac89f-972b-479a-83a8-8893119510a5"
      },
      "execution_count": null,
      "outputs": [
        {
          "output_type": "execute_result",
          "data": {
            "text/plain": [
              "array([ 3.,  3.,  8.,  1.,  7.,  3.,  6.,  8.,  9.,  7.,  5.,  3.,  1.,\n",
              "        2.,  3.,  4.,  5.,  6.,  7.,  8.,  9., 10., 11.])"
            ]
          },
          "metadata": {},
          "execution_count": 263
        }
      ]
    },
    {
      "cell_type": "markdown",
      "source": [
        "**EXERCICE 5**"
      ],
      "metadata": {
        "id": "zyO0Mv7fNFpb"
      }
    },
    {
      "cell_type": "markdown",
      "source": [
        "Soit le tableau a = np.array([[1,2,3],[4,5,6],[7,8,9]])\n"
      ],
      "metadata": {
        "id": "QK4KcGYMOBFt"
      }
    },
    {
      "cell_type": "code",
      "source": [
        "a = np.array([[1,2,3],[4,5,6],[7,8,9]])\n",
        "a"
      ],
      "metadata": {
        "colab": {
          "base_uri": "https://localhost:8080/"
        },
        "id": "l-6FP-wpNDHs",
        "outputId": "7f04d924-2b98-4f83-f607-52d73985df6b"
      },
      "execution_count": null,
      "outputs": [
        {
          "output_type": "execute_result",
          "data": {
            "text/plain": [
              "array([[1, 2, 3],\n",
              "       [4, 5, 6],\n",
              "       [7, 8, 9]])"
            ]
          },
          "metadata": {},
          "execution_count": 266
        }
      ]
    },
    {
      "cell_type": "code",
      "source": [
        "#Afficher la somme des éléments du tableau\n",
        "a.sum()"
      ],
      "metadata": {
        "colab": {
          "base_uri": "https://localhost:8080/"
        },
        "id": "LuX6uVPqNKub",
        "outputId": "125c25ef-3087-4328-df93-bf35317c72ab"
      },
      "execution_count": null,
      "outputs": [
        {
          "output_type": "execute_result",
          "data": {
            "text/plain": [
              "45"
            ]
          },
          "metadata": {},
          "execution_count": 267
        }
      ]
    },
    {
      "cell_type": "code",
      "source": [
        "#Afficher la somme des éléments du tableau par colonne\n",
        "a.sum(axis=0)"
      ],
      "metadata": {
        "colab": {
          "base_uri": "https://localhost:8080/"
        },
        "id": "u2smdQMqOfvF",
        "outputId": "a173e617-e8b3-4daa-e608-7cbf29f6d9a7"
      },
      "execution_count": null,
      "outputs": [
        {
          "output_type": "execute_result",
          "data": {
            "text/plain": [
              "array([12, 15, 18])"
            ]
          },
          "metadata": {},
          "execution_count": 268
        }
      ]
    },
    {
      "cell_type": "code",
      "source": [
        "#Afficher la somme des éléments du tableau par ligne\n",
        "a.sum(axis=1)"
      ],
      "metadata": {
        "colab": {
          "base_uri": "https://localhost:8080/"
        },
        "id": "Dbhg7BzmO-E2",
        "outputId": "c60a669e-33d5-462e-da1d-05d78146a075"
      },
      "execution_count": null,
      "outputs": [
        {
          "output_type": "execute_result",
          "data": {
            "text/plain": [
              "array([ 6, 15, 24])"
            ]
          },
          "metadata": {},
          "execution_count": 269
        }
      ]
    },
    {
      "cell_type": "code",
      "source": [
        "#Afficher le produit des éléments du tableau par colonne\n",
        "prod= np.prod(a, axis=0)\n",
        "prod"
      ],
      "metadata": {
        "colab": {
          "base_uri": "https://localhost:8080/"
        },
        "id": "7TW86O7WPK5a",
        "outputId": "c5c9c02d-c613-4872-e22e-1cf11342eb89"
      },
      "execution_count": null,
      "outputs": [
        {
          "output_type": "execute_result",
          "data": {
            "text/plain": [
              "array([ 28,  80, 162])"
            ]
          },
          "metadata": {},
          "execution_count": 272
        }
      ]
    },
    {
      "cell_type": "code",
      "source": [
        "#Afficher le minimum du tableau\n",
        "a.min()"
      ],
      "metadata": {
        "colab": {
          "base_uri": "https://localhost:8080/"
        },
        "id": "oZYIsc0vQTpd",
        "outputId": "25be9224-07cd-454e-8139-d8ffa4024636"
      },
      "execution_count": null,
      "outputs": [
        {
          "output_type": "execute_result",
          "data": {
            "text/plain": [
              "1"
            ]
          },
          "metadata": {},
          "execution_count": 274
        }
      ]
    },
    {
      "cell_type": "code",
      "source": [
        "#Afficher le maximum des éléments du tableau\n",
        "a.max()"
      ],
      "metadata": {
        "colab": {
          "base_uri": "https://localhost:8080/"
        },
        "id": "AF6SrdVqQrqi",
        "outputId": "fed8440a-a593-4228-8562-1bd2ea7bf4c8"
      },
      "execution_count": null,
      "outputs": [
        {
          "output_type": "execute_result",
          "data": {
            "text/plain": [
              "9"
            ]
          },
          "metadata": {},
          "execution_count": 275
        }
      ]
    },
    {
      "cell_type": "code",
      "source": [
        "#Afficher le maximum des éléments du tableau\n",
        "a.mean()"
      ],
      "metadata": {
        "colab": {
          "base_uri": "https://localhost:8080/"
        },
        "id": "sF86bEGcQ0gn",
        "outputId": "ba75b535-e297-4629-ac8a-cd9bbf6521b7"
      },
      "execution_count": null,
      "outputs": [
        {
          "output_type": "execute_result",
          "data": {
            "text/plain": [
              "5.0"
            ]
          },
          "metadata": {},
          "execution_count": 276
        }
      ]
    },
    {
      "cell_type": "code",
      "source": [
        "# Afficher la variance des éléments du tableau\n",
        "a.var()"
      ],
      "metadata": {
        "colab": {
          "base_uri": "https://localhost:8080/"
        },
        "id": "uRl4hrGGQ6Tf",
        "outputId": "c851f528-d466-4c89-d881-dcd9711cef11"
      },
      "execution_count": null,
      "outputs": [
        {
          "output_type": "execute_result",
          "data": {
            "text/plain": [
              "6.666666666666667"
            ]
          },
          "metadata": {},
          "execution_count": 280
        }
      ]
    },
    {
      "cell_type": "code",
      "source": [
        "#Afficher l’écart type des éléments du tableau\n",
        "a.std()"
      ],
      "metadata": {
        "colab": {
          "base_uri": "https://localhost:8080/"
        },
        "id": "BzXwD_znRMli",
        "outputId": "168019d2-1194-42c7-fd20-cfc0addbfe23"
      },
      "execution_count": null,
      "outputs": [
        {
          "output_type": "execute_result",
          "data": {
            "text/plain": [
              "2.581988897471611"
            ]
          },
          "metadata": {},
          "execution_count": 279
        }
      ]
    }
  ]
}